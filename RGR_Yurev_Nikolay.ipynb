{
 "cells": [
  {
   "cell_type": "code",
   "execution_count": 764,
   "metadata": {},
   "outputs": [],
   "source": [
    "# Основной класс, в котором реализуется логика работы предприятия\n",
    "# Автомобильные перевозки. Парк техники\n",
    "import functools\n",
    "import datetime\n",
    "\n",
    "\n",
    "class SupplyException(Exception):\n",
    "    pass\n",
    "\n",
    "\n",
    "class Transit:\n",
    "    '''Автопарк'''\n",
    "\n",
    "    def __init__(self, name, address):\n",
    "        self.name = name\n",
    "        self.address = address\n",
    "        self.cars = {}\n",
    "        self.suppliers = []\n",
    "        self.clients = []\n",
    "        self.drivers = []\n",
    "        self.cities = []\n",
    "        self.fund = 0\n",
    "\n",
    "    def accept_supply(self, car, pricelist, total_sum):\n",
    "        \"\"\"\n",
    "        Принять поставку от поставщика.\n",
    "        Примеры параметров:\n",
    "        car = {Kenworth: 2, Avia:3} - состав поставленных товаров\n",
    "        pricelist = {Avia: 10000 FAW: 20000 Cargo: 40000: IVECO:30000 Kenworth:50000} - прайс поставщика\n",
    "        total_sum - общая сумма по прайс-листу поставщика\n",
    "        \"\"\"\n",
    "        try:\n",
    "            # Должно быть достаточно средств капитала для приема поставки\n",
    "            if total_sum > self.fund:\n",
    "                raise SupplyException(\"Недостаточно средств.\")\n",
    "            else:\n",
    "                print('Поставка осуществлена')\n",
    "            # Пополняем запасы и расплачиваемся за поставку\n",
    "            for car, amount in car.items():\n",
    "                if car not in self.cars.keys():\n",
    "                    self.cars[car] = 0\n",
    "                self.cars[car] += amount\n",
    "                self.fund -= amount * pricelist[car]\n",
    "        except SupplyException as e:\n",
    "            print(\"Невозможно осуществить поставку: \", e)\n",
    "\n",
    "    def accept_order(self, date, client, car, cityfr, cityto, driver, summa):\n",
    "        \"\"\"\n",
    "        Продажа:\n",
    "        date - дата\n",
    "        client - заказчик\n",
    "        car - запрашиваемое авто\n",
    "        cityfr - пункт выезда\n",
    "        cityto - пункт назначения\n",
    "        \"\"\"\n",
    "        i = 0\n",
    "        try:\n",
    "            if car not in self.cars.keys():\n",
    "                raise SupplyException('недостаточно авто {}'.format(car))\n",
    "            else:\n",
    "                i = 1\n",
    "            if cityto not in self.cities:\n",
    "                raise SupplyException('недоступен пункт назначения {}'.format(cityto))\n",
    "            else:\n",
    "                i = 1\n",
    "            if cityfr not in self.cities:\n",
    "                raise SupplyException('недоступен пункт выезда {}'.format(cityfr))\n",
    "            else:\n",
    "                i = 1\n",
    "        except SupplyException as e:\n",
    "            print(\"Невозможно осуществить перевозку: \", e)\n",
    "\n",
    "        if i ==1:\n",
    "            self.fund += summa\n",
    "            print(\"Принят заказ от {}, {}, {} - {}, везёт {} на сумму {} руб.\".format(client, car, cityfr, cityto, driver, summa))\n",
    "            driver.rollout(date, car, cityfr, cityto, summa)\n",
    "            client.order(date, cityfr, cityto, car, driver, summa)\n",
    "\n",
    "    def add_driver(self, driver):\n",
    "        \"\"\" Добавление водителя \"\"\"\n",
    "        self.drivers.append(driver)\n",
    "\n",
    "    def add_client(self, client):\n",
    "        \"\"\" Добавление заказчика \"\"\"\n",
    "        self.clients.append(client)\n",
    "\n",
    "    def add_city(self, city):\n",
    "        \"\"\" Добавление пункта \"\"\"\n",
    "        self.cities.append(city)\n",
    "\n",
    "    def add_car(self, car):\n",
    "        \"\"\" Добавление авто \"\"\"\n",
    "        self.cars.append(car)\n",
    "\n",
    "    def add_supplier(self, supplier):\n",
    "        \"\"\" Добавление поставщика \"\"\"\n",
    "        self.suppliers.append(supplier)\n",
    "\n",
    "    def __repr__(self):\n",
    "        return self.name\n",
    "\n",
    "    # Методы для получения и изменения текущего капитала\n",
    "    def set_fund(self, fund):\n",
    "        self.fund = fund\n",
    "\n",
    "    def get_fund(self):\n",
    "        return self.fund\n",
    "\n",
    "    # Сохранение прайс-листа\n",
    "    def set_pricelist(self, pricelist):\n",
    "        self.pricelist = pricelist\n",
    "\n",
    "\n",
    "class Auto:\n",
    "    \"\"\"\n",
    "    Авто\n",
    "    \"\"\"\n",
    "    # Список items в классе Auto хранит список всех известных автомобилей\n",
    "    items = []\n",
    "\n",
    "    def __init__(self, name):\n",
    "        self.name = name\n",
    "        type(self).items.append(self)\n",
    "\n",
    "    def __repr__(self):\n",
    "        return self.name\n",
    "\n",
    "\n",
    "class City:\n",
    "    \"\"\"\n",
    "    Города\n",
    "    \"\"\"\n",
    "    # Список items в классе City хранит список всех известных городов\n",
    "    items = []\n",
    "\n",
    "    def __init__(self, name):\n",
    "        self.name = name\n",
    "        type(self).items.append(self)\n",
    "\n",
    "    def __repr__(self):\n",
    "        return self.name\n",
    "\n",
    "\n",
    "class Client:\n",
    "    \"\"\" Заказчик \"\"\"\n",
    "    items = []\n",
    "\n",
    "    def __init__(self, name):\n",
    "        self.name = name\n",
    "        type(self).items.append(self)\n",
    "\n",
    "    def __repr__(self):\n",
    "        return self.name\n",
    "\n",
    "    def order(self, date, cityfr, cityto, car, driver, summa):\n",
    "        # Сохраняем данные о заказе в файл\n",
    "        # Вместо имен и названий сохраняем только номера (ID), из которых потом можно восстановить всю информацию\n",
    "        with open(\"clients.txt\", 'a+', encoding='utf-8') as file:\n",
    "            file.write(\"{:%Y-%m-%d} {} {} {} {} {}\\n\".format(date,\n",
    "                                                             Client.items.index(self),\n",
    "                                                             Auto.items.index(car),\n",
    "                                                             City.items.index(cityfr),\n",
    "                                                             City.items.index(cityto),\n",
    "                                                             Driver.items.index(driver),\n",
    "                                                             summa\n",
    "                                                             )\n",
    "                       )\n",
    "\n",
    "\n",
    "\n",
    "class Driver:\n",
    "    \"\"\" Водитель \"\"\"\n",
    "    items = []\n",
    "\n",
    "    def __init__(self, name):\n",
    "        self.name = name\n",
    "        type(self).items.append(self)\n",
    "\n",
    "    def rollout(self, date, car, cityfr, cityto, summa):\n",
    "        with open('drivers.txt', 'a+', encoding='utf-8') as file:\n",
    "            file.write(\"{:%Y-%m-%d} {} {} {} {} {}\\n\".format(date,\n",
    "                                                          Driver.items.index(self),\n",
    "                                                          Auto.items.index(car),\n",
    "                                                          City.items.index(cityfr),\n",
    "                                                          City.items.index(cityto),\n",
    "                                                          summa\n",
    "                                                          )\n",
    "                       )\n",
    "\n",
    "    def __repr__(self):\n",
    "        return self.name\n",
    "\n",
    "\n",
    "class Supplier:\n",
    "    \"\"\" Оптовый поставщик \"\"\"\n",
    "\n",
    "    def __init__(self, name):\n",
    "        self.name = name\n",
    "        self.pricelist = {}  # {car_id: price ...}\n",
    "\n",
    "    def __repr__(self):\n",
    "        return self.name\n",
    "\n",
    "    def set_pricelist(self, pricelist):\n",
    "        self.pricelist = pricelist\n",
    "\n",
    "    def make_supply(self, store, cars):\n",
    "        total_sum = functools.reduce(lambda memo, car: memo + self.pricelist[car] * cars[car],\n",
    "                                     cars, 0)\n",
    "        print(\"Общая стоимость поставляемых авто: \", total_sum)\n",
    "        store.accept_supply(cars, self.pricelist, total_sum)\n",
    "\n"
   ]
  },
  {
   "cell_type": "code",
   "execution_count": 765,
   "metadata": {},
   "outputs": [],
   "source": [
    "perevozki = Transit(name = \"Гробовозки\", address = \"ул. Пушкина, дом Колотушкина\")"
   ]
  },
  {
   "cell_type": "code",
   "execution_count": 766,
   "metadata": {},
   "outputs": [],
   "source": [
    "ivanov = Driver('Иванов Сергей Петрович')\n",
    "petrov = Driver('Петров Александ Ильич')\n",
    "karantirov = Driver('Карантиров Феофан Саруторович')\n",
    "sidorov = Driver('Сидоров Евгений Леонидович')\n",
    "\n",
    "for driver in [ivanov, petrov, karantirov, sidorov]:\n",
    "    perevozki.add_driver(driver)"
   ]
  },
  {
   "cell_type": "code",
   "execution_count": 767,
   "metadata": {},
   "outputs": [
    {
     "data": {
      "text/plain": [
       "[Иванов Сергей Петрович,\n",
       " Петров Александ Ильич,\n",
       " Карантиров Феофан Саруторович,\n",
       " Сидоров Евгений Леонидович]"
      ]
     },
     "execution_count": 767,
     "metadata": {},
     "output_type": "execute_result"
    }
   ],
   "source": [
    "perevozki.drivers"
   ]
  },
  {
   "cell_type": "code",
   "execution_count": 768,
   "metadata": {},
   "outputs": [],
   "source": [
    "avia = Auto('Avia')\n",
    "faw = Auto('FAW')\n",
    "cargo = Auto('Cargo')\n",
    "iveco = Auto('IVECO')\n",
    "kenworth = Auto('kenworth')"
   ]
  },
  {
   "cell_type": "code",
   "execution_count": 769,
   "metadata": {},
   "outputs": [],
   "source": [
    "semerochka = Client('Семёрочка')\n",
    "azon = Client('AZON')\n",
    "dms = Client('DMS')\n",
    "\n",
    "for client in [semerochka, azon, dms]:\n",
    "    perevozki.add_client(client)"
   ]
  },
  {
   "cell_type": "code",
   "execution_count": 770,
   "metadata": {},
   "outputs": [],
   "source": [
    "supplier = Supplier(\"Major auto\")"
   ]
  },
  {
   "cell_type": "code",
   "execution_count": 771,
   "metadata": {},
   "outputs": [],
   "source": [
    "perevozki.set_fund(100000)"
   ]
  },
  {
   "cell_type": "code",
   "execution_count": 772,
   "metadata": {},
   "outputs": [
    {
     "name": "stdout",
     "output_type": "stream",
     "text": [
      "Общая стоимость поставляемых авто:  70000\n",
      "Поставка осуществлена\n"
     ]
    }
   ],
   "source": [
    "supp = Supplier(name = 'Оптовик +')\n",
    "supp.set_pricelist({avia: 10000, faw: 20000,  cargo: 30000, iveco: 40000, kenworth: 50000})\n",
    "supp.make_supply(perevozki, {avia: 3, iveco: 1})"
   ]
  },
  {
   "cell_type": "code",
   "execution_count": 773,
   "metadata": {},
   "outputs": [
    {
     "name": "stdout",
     "output_type": "stream",
     "text": [
      "Общая стоимость поставляемых авто:  190000\n",
      "Невозможно осуществить поставку:  Недостаточно средств.\n"
     ]
    }
   ],
   "source": [
    "supp.make_supply(perevozki, {faw: 2, kenworth:3})"
   ]
  },
  {
   "cell_type": "code",
   "execution_count": 774,
   "metadata": {},
   "outputs": [
    {
     "name": "stdout",
     "output_type": "stream",
     "text": [
      "Общая стоимость поставляемых авто:  20000\n",
      "Поставка осуществлена\n"
     ]
    }
   ],
   "source": [
    "supp.make_supply(perevozki, {faw: 1})"
   ]
  },
  {
   "cell_type": "code",
   "execution_count": 775,
   "metadata": {},
   "outputs": [
    {
     "data": {
      "text/plain": [
       "10000"
      ]
     },
     "execution_count": 775,
     "metadata": {},
     "output_type": "execute_result"
    }
   ],
   "source": [
    "perevozki.get_fund()"
   ]
  },
  {
   "cell_type": "code",
   "execution_count": 776,
   "metadata": {},
   "outputs": [],
   "source": [
    "piter = City('Снакт-Петербург')\n",
    "moscow = City('Москва')\n",
    "tambov = City('Тамбов')\n",
    "tver = City('Тверь')\n",
    "tula = City('Тула')\n",
    "for city in [piter, moscow, tambov, tver, tula]:\n",
    "    perevozki.add_city(city)"
   ]
  },
  {
   "cell_type": "code",
   "execution_count": 777,
   "metadata": {},
   "outputs": [
    {
     "data": {
      "text/plain": [
       "[Снакт-Петербург, Москва, Тамбов, Тверь, Тула]"
      ]
     },
     "execution_count": 777,
     "metadata": {},
     "output_type": "execute_result"
    }
   ],
   "source": [
    "perevozki.cities"
   ]
  },
  {
   "cell_type": "code",
   "execution_count": 778,
   "metadata": {},
   "outputs": [
    {
     "name": "stdout",
     "output_type": "stream",
     "text": [
      "Принят заказ от AZON, FAW, Москва - Тамбов, везёт Карантиров Феофан Саруторович на сумму 14000 руб.\n"
     ]
    }
   ],
   "source": [
    "perevozki.accept_order(date = datetime.date(2020, 6, 6),\n",
    "                car = faw,\n",
    "                cityfr = moscow,\n",
    "                cityto = tambov,\n",
    "                summa = 14000,\n",
    "                driver = karantirov,\n",
    "                client = azon\n",
    "                        )"
   ]
  },
  {
   "cell_type": "code",
   "execution_count": 779,
   "metadata": {},
   "outputs": [
    {
     "name": "stdout",
     "output_type": "stream",
     "text": [
      "Невозможно осуществить перевозку:  недостаточно авто Cargo\n"
     ]
    }
   ],
   "source": [
    "perevozki.accept_order(date = datetime.date(2020, 6, 6),\n",
    "                car = cargo,\n",
    "                cityfr = piter,\n",
    "                cityto = tver,\n",
    "                summa = 10500,\n",
    "                driver = sidorov,\n",
    "                client = semerochka\n",
    "                        )"
   ]
  },
  {
   "cell_type": "code",
   "execution_count": 780,
   "metadata": {},
   "outputs": [
    {
     "name": "stdout",
     "output_type": "stream",
     "text": [
      "Принят заказ от DMS, Avia, Снакт-Петербург - Москва, везёт Иванов Сергей Петрович на сумму 10000 руб.\n"
     ]
    }
   ],
   "source": [
    "perevozki.accept_order(date = datetime.date(2020, 6, 6),\n",
    "                car = avia,\n",
    "                cityfr = piter,\n",
    "                cityto = moscow,\n",
    "                summa = 10000,\n",
    "                driver = ivanov,\n",
    "                client = dms\n",
    "                        )"
   ]
  },
  {
   "cell_type": "code",
   "execution_count": 781,
   "metadata": {},
   "outputs": [
    {
     "name": "stdout",
     "output_type": "stream",
     "text": [
      "Принят заказ от Семёрочка, Avia, Москва - Тамбов, везёт Петров Александ Ильич на сумму 9500 руб.\n"
     ]
    }
   ],
   "source": [
    "perevozki.accept_order(date = datetime.date(2020, 6, 6),\n",
    "                car = avia,\n",
    "                cityfr = moscow,\n",
    "                cityto = tambov,\n",
    "                summa = 9500,\n",
    "                driver = petrov,\n",
    "                client = semerochka\n",
    "                        )"
   ]
  },
  {
   "cell_type": "code",
   "execution_count": 782,
   "metadata": {},
   "outputs": [
    {
     "name": "stdout",
     "output_type": "stream",
     "text": [
      "Принят заказ от DMS, FAW, Тула - Тамбов, везёт Петров Александ Ильич на сумму 16000 руб.\n"
     ]
    }
   ],
   "source": [
    "perevozki.accept_order(date = datetime.date(2020, 6, 7),\n",
    "                car = faw,\n",
    "                cityfr = tula,\n",
    "                cityto = tambov,\n",
    "                summa = 16000,\n",
    "                driver = petrov,\n",
    "                client = dms\n",
    "                        )"
   ]
  },
  {
   "cell_type": "code",
   "execution_count": 783,
   "metadata": {},
   "outputs": [
    {
     "name": "stdout",
     "output_type": "stream",
     "text": [
      "Принят заказ от Семёрочка, Avia, Тверь - Москва, везёт Карантиров Феофан Саруторович на сумму 14000 руб.\n"
     ]
    }
   ],
   "source": [
    "perevozki.accept_order(date = datetime.date(2020, 6, 8),\n",
    "                car = avia,\n",
    "                cityfr = tver,\n",
    "                cityto = moscow,\n",
    "                summa = 14000,\n",
    "                driver = karantirov,\n",
    "                client = semerochka\n",
    "                        )"
   ]
  },
  {
   "cell_type": "code",
   "execution_count": 784,
   "metadata": {},
   "outputs": [
    {
     "name": "stdout",
     "output_type": "stream",
     "text": [
      "Принят заказ от AZON, Avia, Москва - Тверь, везёт Сидоров Евгений Леонидович на сумму 18000 руб.\n"
     ]
    }
   ],
   "source": [
    "perevozki.accept_order(date = datetime.date(2020, 6, 8),\n",
    "                car = avia,\n",
    "                cityfr = moscow,\n",
    "                cityto = tver,\n",
    "                summa = 18000,\n",
    "                driver = sidorov,\n",
    "                client = azon\n",
    "                        )"
   ]
  },
  {
   "cell_type": "code",
   "execution_count": 785,
   "metadata": {},
   "outputs": [
    {
     "name": "stdout",
     "output_type": "stream",
     "text": [
      "Принят заказ от Семёрочка, Avia, Москва - Тамбов, везёт Иванов Сергей Петрович на сумму 12000 руб.\n"
     ]
    }
   ],
   "source": [
    "perevozki.accept_order(date = datetime.date(2020, 6, 8),\n",
    "                car = avia,\n",
    "                cityfr = moscow,\n",
    "                cityto = tambov,\n",
    "                summa = 12000,\n",
    "                driver = ivanov,\n",
    "                client = semerochka\n",
    "                        )"
   ]
  },
  {
   "cell_type": "code",
   "execution_count": 792,
   "metadata": {},
   "outputs": [
    {
     "data": {
      "text/html": [
       "<div>\n",
       "<style scoped>\n",
       "    .dataframe tbody tr th:only-of-type {\n",
       "        vertical-align: middle;\n",
       "    }\n",
       "\n",
       "    .dataframe tbody tr th {\n",
       "        vertical-align: top;\n",
       "    }\n",
       "\n",
       "    .dataframe thead th {\n",
       "        text-align: right;\n",
       "    }\n",
       "</style>\n",
       "<table border=\"1\" class=\"dataframe\">\n",
       "  <thead>\n",
       "    <tr style=\"text-align: right;\">\n",
       "      <th></th>\n",
       "      <th>auto_id</th>\n",
       "      <th>cityfr_id</th>\n",
       "      <th>cityto_id</th>\n",
       "      <th>summa</th>\n",
       "    </tr>\n",
       "    <tr>\n",
       "      <th>driver_id</th>\n",
       "      <th></th>\n",
       "      <th></th>\n",
       "      <th></th>\n",
       "      <th></th>\n",
       "    </tr>\n",
       "  </thead>\n",
       "  <tbody>\n",
       "    <tr>\n",
       "      <td>0</td>\n",
       "      <td>0</td>\n",
       "      <td>1</td>\n",
       "      <td>3</td>\n",
       "      <td>22000</td>\n",
       "    </tr>\n",
       "    <tr>\n",
       "      <td>1</td>\n",
       "      <td>1</td>\n",
       "      <td>5</td>\n",
       "      <td>4</td>\n",
       "      <td>25500</td>\n",
       "    </tr>\n",
       "    <tr>\n",
       "      <td>2</td>\n",
       "      <td>1</td>\n",
       "      <td>4</td>\n",
       "      <td>3</td>\n",
       "      <td>28000</td>\n",
       "    </tr>\n",
       "    <tr>\n",
       "      <td>3</td>\n",
       "      <td>0</td>\n",
       "      <td>1</td>\n",
       "      <td>3</td>\n",
       "      <td>18000</td>\n",
       "    </tr>\n",
       "  </tbody>\n",
       "</table>\n",
       "</div>"
      ],
      "text/plain": [
       "           auto_id  cityfr_id  cityto_id  summa\n",
       "driver_id                                      \n",
       "0                0          1          3  22000\n",
       "1                1          5          4  25500\n",
       "2                1          4          3  28000\n",
       "3                0          1          3  18000"
      ]
     },
     "execution_count": 792,
     "metadata": {},
     "output_type": "execute_result"
    }
   ],
   "source": [
    "data = df.groupby('driver_id').sum()\n",
    "data\n"
   ]
  },
  {
   "cell_type": "code",
   "execution_count": 793,
   "metadata": {},
   "outputs": [],
   "source": [
    "%matplotlib inline\n",
    "import matplotlib.pyplot as plt\n",
    "import numpy as np\n",
    "import pandas as pd\n"
   ]
  },
  {
   "cell_type": "code",
   "execution_count": 794,
   "metadata": {},
   "outputs": [
    {
     "data": {
      "text/plain": [
       "'Построим круговую диаграмму водителей по прибыльности'"
      ]
     },
     "execution_count": 794,
     "metadata": {},
     "output_type": "execute_result"
    }
   ],
   "source": [
    "'''Построим круговую диаграмму водителей по прибыльности'''"
   ]
  },
  {
   "cell_type": "code",
   "execution_count": 795,
   "metadata": {},
   "outputs": [
    {
     "data": {
      "image/png": "[encoded data removed]",
      "text/plain": [
       "<Figure size 960x640 with 1 Axes>"
      ]
     },
     "metadata": {},
     "output_type": "display_data"
    }
   ],
   "source": [
    "plt.figure(figsize=(12, 8), dpi=80)\n",
    "plt.axes([0,0,1,1], aspect = 'equal')\n",
    "Z = data['summa']\n",
    "# Для получения ФИО сотрудника извлечем его из Driver.items по известному нам ID\n",
    "plt.pie(Z, autopct = '%1.2f%%', labels = list(map(lambda i: Driver.items[i], data.index)))\n",
    "plt.legend(loc='lower left')\n",
    "plt.show()"
   ]
  },
  {
   "cell_type": "code",
   "execution_count": 808,
   "metadata": {},
   "outputs": [
    {
     "data": {
      "image/png": "[encoded data removed]",
      "text/plain": [
       "<Figure size 960x640 with 1 Axes>"
      ]
     },
     "metadata": {},
     "output_type": "display_data"
    }
   ],
   "source": [
    "'''Построим круговую диаграмму по прибыльности пунктов назначения'''\n",
    "data = df.groupby('cityto_id').sum()\n",
    "data\n",
    "\n",
    "plt.figure(figsize=(12, 8), dpi=80)\n",
    "plt.axes([0,0,1,1], aspect = 'equal')\n",
    "Z = data['summa']\n",
    "# Для получения заказчика Client.items по известному нам ID\n",
    "plt.pie(Z, autopct = '%1.2f%%', labels = list(map(lambda i: City.items[i], data.index)))\n",
    "plt.legend(loc='lower left')\n",
    "plt.show()"
   ]
  },
  {
   "cell_type": "code",
   "execution_count": 796,
   "metadata": {},
   "outputs": [
    {
     "data": {
      "text/html": [
       "<div>\n",
       "<style scoped>\n",
       "    .dataframe tbody tr th:only-of-type {\n",
       "        vertical-align: middle;\n",
       "    }\n",
       "\n",
       "    .dataframe tbody tr th {\n",
       "        vertical-align: top;\n",
       "    }\n",
       "\n",
       "    .dataframe thead th {\n",
       "        text-align: right;\n",
       "    }\n",
       "</style>\n",
       "<table border=\"1\" class=\"dataframe\">\n",
       "  <thead>\n",
       "    <tr style=\"text-align: right;\">\n",
       "      <th></th>\n",
       "      <th>date</th>\n",
       "      <th>driver_id</th>\n",
       "      <th>auto_id</th>\n",
       "      <th>cityfr_id</th>\n",
       "      <th>cityto_id</th>\n",
       "      <th>summa</th>\n",
       "    </tr>\n",
       "  </thead>\n",
       "  <tbody>\n",
       "    <tr>\n",
       "      <td>0</td>\n",
       "      <td>2020-06-06</td>\n",
       "      <td>2</td>\n",
       "      <td>1</td>\n",
       "      <td>1</td>\n",
       "      <td>2</td>\n",
       "      <td>14000</td>\n",
       "    </tr>\n",
       "    <tr>\n",
       "      <td>1</td>\n",
       "      <td>2020-06-06</td>\n",
       "      <td>0</td>\n",
       "      <td>0</td>\n",
       "      <td>0</td>\n",
       "      <td>1</td>\n",
       "      <td>10000</td>\n",
       "    </tr>\n",
       "    <tr>\n",
       "      <td>2</td>\n",
       "      <td>2020-06-06</td>\n",
       "      <td>1</td>\n",
       "      <td>0</td>\n",
       "      <td>1</td>\n",
       "      <td>2</td>\n",
       "      <td>9500</td>\n",
       "    </tr>\n",
       "    <tr>\n",
       "      <td>3</td>\n",
       "      <td>2020-06-07</td>\n",
       "      <td>1</td>\n",
       "      <td>1</td>\n",
       "      <td>4</td>\n",
       "      <td>2</td>\n",
       "      <td>16000</td>\n",
       "    </tr>\n",
       "    <tr>\n",
       "      <td>4</td>\n",
       "      <td>2020-06-08</td>\n",
       "      <td>2</td>\n",
       "      <td>0</td>\n",
       "      <td>3</td>\n",
       "      <td>1</td>\n",
       "      <td>14000</td>\n",
       "    </tr>\n",
       "    <tr>\n",
       "      <td>5</td>\n",
       "      <td>2020-06-08</td>\n",
       "      <td>3</td>\n",
       "      <td>0</td>\n",
       "      <td>1</td>\n",
       "      <td>3</td>\n",
       "      <td>18000</td>\n",
       "    </tr>\n",
       "    <tr>\n",
       "      <td>6</td>\n",
       "      <td>2020-06-08</td>\n",
       "      <td>0</td>\n",
       "      <td>0</td>\n",
       "      <td>1</td>\n",
       "      <td>2</td>\n",
       "      <td>12000</td>\n",
       "    </tr>\n",
       "  </tbody>\n",
       "</table>\n",
       "</div>"
      ],
      "text/plain": [
       "         date  driver_id  auto_id  cityfr_id  cityto_id  summa\n",
       "0  2020-06-06          2        1          1          2  14000\n",
       "1  2020-06-06          0        0          0          1  10000\n",
       "2  2020-06-06          1        0          1          2   9500\n",
       "3  2020-06-07          1        1          4          2  16000\n",
       "4  2020-06-08          2        0          3          1  14000\n",
       "5  2020-06-08          3        0          1          3  18000\n",
       "6  2020-06-08          0        0          1          2  12000"
      ]
     },
     "execution_count": 796,
     "metadata": {},
     "output_type": "execute_result"
    }
   ],
   "source": [
    "data = df.groupby('date').sum()\n",
    "data\n",
    "df = pd.read_csv('drivers.txt', sep=' ', header = None)\n",
    "df.columns = [\"date\", 'driver_id', 'auto_id', 'cityfr_id', 'cityto_id', 'summa']\n",
    "df"
   ]
  },
  {
   "cell_type": "code",
   "execution_count": 797,
   "metadata": {},
   "outputs": [
    {
     "data": {
      "image/png": "[encoded data removed]",
      "text/plain": [
       "<Figure size 700x700 with 1 Axes>"
      ]
     },
     "metadata": {
      "needs_background": "light"
     },
     "output_type": "display_data"
    }
   ],
   "source": [
    "plt.figure(figsize=(7, 7), dpi=100)\n",
    "X = np.arange(len(data))\n",
    "Y1 = data['summa']\n",
    "plt.bar(X, Y1, facecolor='#9999ff', tick_label = data.index)\n",
    "\n",
    "\n",
    "plt.show()"
   ]
  },
  {
   "cell_type": "code",
   "execution_count": 798,
   "metadata": {},
   "outputs": [
    {
     "data": {
      "text/plain": [
       "103500"
      ]
     },
     "execution_count": 798,
     "metadata": {},
     "output_type": "execute_result"
    }
   ],
   "source": [
    "perevozki.get_fund()\n",
    "'''Запросим итоговый баланс'''"
   ]
  },
  {
   "cell_type": "code",
   "execution_count": null,
   "metadata": {},
   "outputs": [],
   "source": []
  },
  {
   "cell_type": "code",
   "execution_count": null,
   "metadata": {},
   "outputs": [],
   "source": []
  }
 ],
 "metadata": {
  "kernelspec": {
   "display_name": "Python 3",
   "language": "python",
   "name": "python3"
  },
  "language_info": {
   "codemirror_mode": {
    "name": "ipython",
    "version": 3
   },
   "file_extension": ".py",
   "mimetype": "text/x-python",
   "name": "python",
   "nbconvert_exporter": "python",
   "pygments_lexer": "ipython3",
   "version": "3.7.4"
  }
 },
 "nbformat": 4,
 "nbformat_minor": 2
}
